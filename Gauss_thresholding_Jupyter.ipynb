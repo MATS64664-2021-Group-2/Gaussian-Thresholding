{
 "cells": [
  {
   "cell_type": "markdown",
   "metadata": {},
   "source": [
    "Gauss thresholding"
   ]
  },
  {
   "cell_type": "markdown",
   "metadata": {},
   "source": [
    "Required modules"
   ]
  },
  {
   "cell_type": "code",
   "execution_count": null,
   "metadata": {},
   "outputs": [],
   "source": [
    "import cv2 #Needs the opencv module to be installed\n",
    "from matplotlib import pyplot as plt #Needs the matplotlib module to be installed\n",
    "from skimage import morphology\n",
    "import numpy as np"
   ]
  },
  {
   "cell_type": "markdown",
   "metadata": {},
   "source": [
    "Enter the path for the image files"
   ]
  },
  {
   "cell_type": "code",
   "execution_count": null,
   "metadata": {},
   "outputs": [],
   "source": [
    "path =   #Enter the appropriate path for your image files"
   ]
  },
  {
   "cell_type": "markdown",
   "metadata": {},
   "source": [
    "Run the code"
   ]
  },
  {
   "cell_type": "code",
   "execution_count": null,
   "metadata": {},
   "outputs": [],
   "source": [
    "while i <= 16: #16 images, i values up to and including 16\n",
    "    image = cv2.imread(path + \"\\chu\" + str(i) + \".jpg\", 0) #Reads in the image. Do not change the original filenames.\n",
    "    image_threshold =  cv2.adaptiveThreshold(image, 255, cv2.ADAPTIVE_THRESH_GAUSSIAN_C, cv2.THRESH_BINARY, 7, 1) #Conduct adaptive Gaussian Thresholding on the image\n",
    "    imagelist.append(image_threshold) #Add image to the image list\n",
    "    \n",
    "    \n",
    "    clean_image_skimage = morphology.remove_small_holes(image_threshold, area_threshold = 50, connectivity = 2) #Conduct area-based thresholding to remove isolated pixels below a specified area threshold\n",
    "    \n",
    "    clean_image_skimage = np.uint8(clean_image_skimage_points) #Convert from boolean to uint8, otherwise opencv cannot process the array\n",
    "    \n",
    "    \n",
    "    element_open = cv2.getStructuringElement(cv2.MORPH_RECT, (2,2)) #Define the structure size for the erosion treatment\n",
    "    \n",
    "    clean_image_open = cv2.morphologyEx(image_threshold, cv2.MORPH_OPEN, element_open) #Conduct an erosion and dilation treatment to reduce noise or small hydrides, in this case\n",
    "    \n",
    "    clean_image_open_combined = cv2.morphologyEx(clean_image_skimage, cv2.MORPH_OPEN, element_open) #Combine the skimage and opencv treatment to see if results improve.\n",
    "    \n",
    "    print(\"Similarity between skimage and opencv morphology processing: \" + str(round(np.sum(clean_image_open == clean_image_skimage)/(len(image)*len(image[0]))*100, 1)) + \"%\")\n",
    "    print(\"Similarity between skimage and opencv morphology processing combined vs. skimage: \" + str(round(np.sum(clean_image_open_combined == clean_image_skimage)/(len(image)*len(image[0]))*100, 1)) + "%")\n",
    "    \n",
    "    \n",
    "    \n",
    "    func, plots = plt.subplots(1,4)\n",
    "    plots[3].imshow(clean_image_open_combined, \"gray\") #Plot everything for comparison and verification\n",
    "    plots[2].imshow(clean_image_skimage, \"gray\")\n",
    "    plots[1].imshow(clean_image_open, \"gray\")\n",
    "    plots[0].imshow(image_threshold, \"gray\") \n",
    "    \n",
    "    plt.show() #Plot the images one by one for verification\n",
    "    i += 1 "
   ]
  }
 ],
 "metadata": {
  "kernelspec": {
   "display_name": "Python 3",
   "language": "python",
   "name": "python3"
  },
  "language_info": {
   "codemirror_mode": {
    "name": "ipython",
    "version": 3
   },
   "file_extension": ".py",
   "mimetype": "text/x-python",
   "name": "python",
   "nbconvert_exporter": "python",
   "pygments_lexer": "ipython3",
   "version": "3.8.3"
  }
 },
 "nbformat": 4,
 "nbformat_minor": 4
}
