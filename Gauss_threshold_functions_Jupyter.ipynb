{
 "cells": [
  {
   "cell_type": "markdown",
   "metadata": {},
   "source": [
    "This Jupyter notebook is used to apply Gaussian Thresholding to the original micrographs and process them to remove excess noise from thresholding process."
   ]
  },
  {
   "cell_type": "markdown",
   "metadata": {},
   "source": [
    "First, we need to import all the necessary modules."
   ]
  },
  {
   "cell_type": "code",
   "execution_count": null,
   "metadata": {},
   "outputs": [],
   "source": [
    "import cv2 #Needs the opencv module to be installed\n",
    "from matplotlib import pyplot as plt #Needs the matplotlib module to be installed\n",
    "from skimage import morphology\n",
    "import numpy as np\n",
    "import os"
   ]
  },
  {
   "cell_type": "markdown",
   "metadata": {},
   "source": [
    "The first function counts the number of files (or images, in this case) and returns the value. This automates the second function."
   ]
  },
  {
   "cell_type": "code",
   "execution_count": null,
   "metadata": {},
   "outputs": [],
   "source": [
    "def image_count(path): #Counts the amount of images for an automated count for the following while loop.\n",
    "    for root, directories, images in os.walk(path): #Walk the path and get the directories and filelist.\n",
    "        return len(images) #Return the number of filer in the specified path, this only works if there are no excess files in the directory."
   ]
  },
  {
   "cell_type": "markdown",
   "metadata": {},
   "source": [
    "The second function applies Gaussian thresholding to the original images and returns two lists with the thresholded and original images."
   ]
  },
  {
   "cell_type": "code",
   "execution_count": null,
   "metadata": {},
   "outputs": [],
   "source": [
    "def Gaussian_thresholding(path):\n",
    "    i = 1 #Integer to keep track of the used images in the while loop\n",
    "    imagelist = [] #List to contain all the processed images   \n",
    "    pure_imagelist = [] #List to contain all the unprocessed images\n",
    "    while i <= image_count(path): #16 images, i values up to and including 16\n",
    "        \n",
    "        image = cv2.imread(path + \"chu\" + str(i) + \".jpg\", 0) #Reads in the image. Do not change the original filenames.\n",
    "        image_threshold =  cv2.adaptiveThreshold(image, 255,cv2.ADAPTIVE_THRESH_GAUSSIAN_C, cv2.THRESH_BINARY, 7, 1) #Conduct adaptive Gaussian Thresholding on the image\n",
    "        \n",
    "        pure_imagelist.append(image) #Add the original images to the unprocessed image list.\n",
    "        imagelist.append(image_threshold) #Add image to the image list\n",
    "        i += 1\n",
    "        \n",
    "    return imagelist, pure_imagelist #Returns both lists"
   ]
  },
  {
   "cell_type": "markdown",
   "metadata": {},
   "source": [
    "The third function cleans the images from excess noise using two different methods and combines them for a third method. It also plots all the images for comparison. Assertions are in place within the function to make sure that none of the processed images are too similar (95% of the same pixels) to each other.\n",
    "\n",
    "The most successful variant was found to be the combination with empirically chosen input variables. "
   ]
  },
  {
   "cell_type": "code",
   "execution_count": null,
   "metadata": {},
   "outputs": [],
   "source": [
    "def image_clean_up(image_list, pure_image_list):\n",
    "    j = 0\n",
    "    for image in image_list:\n",
    "        \n",
    "        image_threshold_inverted = np.invert(image) #Inverts the thresholded image so the hydrides are white.\n",
    "        \n",
    "        clean_image_skimage = morphology.remove_small_holes(image, area_threshold = 175, connectivity = 1) #Conduct area-based thresholding to remove isolated pixels below a specified area threshold\n",
    "    \n",
    "        clean_image_skimage = np.invert(np.uint8(clean_image_skimage)) #Convert from boolean to uint8, otherwise opencv cannot process the array and invert the image so hydrides are white.\n",
    "    \n",
    "        element_open = cv2.getStructuringElement(cv2.MORPH_RECT, (2,2)) #Define the structure size for the erosion treatment\n",
    "    \n",
    "        clean_image_open = cv2.morphologyEx(image_threshold_inverted, cv2.MORPH_OPEN, element_open) #Conduct an erosion and dilation treatment to reduce noise or small hydrides, in this case\n",
    "    \n",
    "        clean_image_skimage_combined = np.invert(morphology.remove_small_holes(np.invert(clean_image_open), area_threshold = 100, connectivity = 1)) #skimage processing on the opencv processed image.\n",
    "\n",
    "        assert np.sum(clean_image_open == clean_image_skimage)/(len(image)*len(image[0]))*100 <= 95, \"OpenCV and skimage processing produced an image that is 95% similar. Processing may be redundant.\"\n",
    "\n",
    "        assert np.sum(clean_image_skimage_combined == clean_image_skimage)/(len(image)*len(image[0]))*100 <= 95, \"OpenCV and skimage combined vs. skimage processing produced an image that is 95% similar. Processing may be redundant.\"\n",
    "\n",
    "        assert np.sum(image_threshold_inverted == clean_image_open)/(len(image)*len(image[0]))*100 <= 95, \"OpenCV processing has a 95% similarity to the original thresholded image. Processing may be redundant.\"\n",
    "        \n",
    "        assert np.sum(image_threshold_inverted == clean_image_skimage)/(len(image)*len(image[0]))*100 <= 95, \"skimage processing has a 95% similarity to the original thresholded image. Processing may be redundant.\"\n",
    "        \n",
    "        assert np.sum(image_threshold_inverted == clean_image_skimage_combined)/(len(image)*len(image[0]))*100 <= 95, \"OpenCV and skimage processing has a 95% similarity to the original thresholded image. Processing may be redundant.\"\n",
    "        \n",
    "        func, plots = plt.subplots(1,5, figsize =(40,40)) #Define subplot area\n",
    "        \n",
    "        plots[4].imshow(pure_image_list[j], \"gray\") #Plot everything for comparison and verification\n",
    "        plots[3].imshow(clean_image_skimage_combined, \"gray\")\n",
    "        plots[2].imshow(clean_image_skimage, \"gray\") \n",
    "        plots[1].imshow(clean_image_open, \"gray\")\n",
    "        plots[0].imshow(image_threshold_inverted, \"gray\") \n",
    "        \n",
    "        plots[4].axis(\"off\") #Remove axes for increased clarity\n",
    "        plots[3].axis(\"off\") \n",
    "        plots[2].axis(\"off\")\n",
    "        plots[1].axis(\"off\")\n",
    "        plots[0].axis(\"off\")\n",
    "        \n",
    "        plots[4].set_title(\"Original image\", fontsize = \"50\") #Add titles for each processed image\n",
    "        plots[3].set_title(\"OpenCV + skimage\", fontsize = \"50\") \n",
    "        plots[2].set_title(\"skimage\", fontsize = \"50\") \n",
    "        plots[1].set_title(\"OpenCV\", fontsize = \"50\")\n",
    "        plots[0].set_title(\"Gauss\", fontsize = \"50\")\n",
    "        \n",
    "        plt.show() #Plot the images one by one for verification\n",
    "        \n",
    "        j += 1"
   ]
  },
  {
   "cell_type": "markdown",
   "metadata": {},
   "source": [
    "For the functions to work, a path must be defined. Then we run the functions."
   ]
  },
  {
   "cell_type": "code",
   "execution_count": null,
   "metadata": {},
   "outputs": [],
   "source": [
    "path =  \"./Hydrides/\" #Enter the path of the directory, which contains all the images to be thresholded. \n",
    "\n",
    "image_clean_up(Gaussian_thresholding(path)[0], Gaussian_thresholding(path)[1]) #Run the function to process the images."
   ]
  },
  {
   "cell_type": "markdown",
   "metadata": {},
   "source": [
    "Finally, a PyTest function is defined to determine whether the pixels in the thresholded image are completely black and white."
   ]
  },
  {
   "cell_type": "code",
   "execution_count": null,
   "metadata": {},
   "outputs": [],
   "source": [
    "binary_value_list = [0,255] #Value list to test the thresholded images.\n",
    "\n",
    "def test_binary(): #Checks whether each pixel of the image is either fully white or fully black.\n",
    "    for image in Gaussian_thresholding(path)[0]:\n",
    "        for row in image:\n",
    "            for pixel in row:\n",
    "                assert pixel in binary_value_list, \"Image is not fully binary, therefore not thresholded properly\""
   ]
  }
 ],
 "metadata": {
  "kernelspec": {
   "display_name": "Python 3",
   "language": "python",
   "name": "python3"
  },
  "language_info": {
   "codemirror_mode": {
    "name": "ipython",
    "version": 3
   },
   "file_extension": ".py",
   "mimetype": "text/x-python",
   "name": "python",
   "nbconvert_exporter": "python",
   "pygments_lexer": "ipython3",
   "version": "3.8.3"
  }
 },
 "nbformat": 4,
 "nbformat_minor": 4
}
